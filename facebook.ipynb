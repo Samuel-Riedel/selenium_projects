{
 "cells": [
  {
   "cell_type": "markdown",
   "metadata": {},
   "source": [
    "Import Every Module For Selenium"
   ]
  },
  {
   "cell_type": "code",
   "execution_count": 1,
   "metadata": {},
   "outputs": [
    {
     "data": {
      "text/plain": [
       "False"
      ]
     },
     "execution_count": 1,
     "metadata": {},
     "output_type": "execute_result"
    }
   ],
   "source": [
    "from selenium import webdriver\n",
    "from selenium.webdriver.chrome.service import Service\n",
    "from selenium.webdriver.common.by import By\n",
    "from selenium.webdriver.common.keys import Keys\n",
    "from selenium.webdriver.support.ui import WebDriverWait\n",
    "from selenium.webdriver.support import expected_conditions as EC\n",
    "from selenium.common.exceptions import NoSuchElementException\n",
    "import time\n",
    "\n",
    "import os\n",
    "from dotenv import load_dotenv\n",
    "load_dotenv()\n",
    "\n"
   ]
  },
  {
   "cell_type": "markdown",
   "metadata": {},
   "source": [
    "Create Variables to be used"
   ]
  },
  {
   "cell_type": "code",
   "execution_count": 2,
   "metadata": {},
   "outputs": [],
   "source": [
    "\n",
    "\n",
    "\n",
    "fb_username = \"email.com\"\n",
    "fb_password = \"password\"\n",
    "\n",
    "\n",
    "timer = 35\n",
    "profileTimer = 15\n",
    "service = Service(executable_path=\"chromedriver.exe\")\n",
    "driver = webdriver.Chrome(service=service)\n",
    "driver.get(\"https://www.facebook.com/?stype=lo&flo=1&deoia=1&jlou=AffagpcZgnYie2FFR4MAA5StkbXg14BOnQjbwExcGYY5nLKviv1hP8HHoBSUjQBc2JMMSHgSsJELbfovNkDY5TPw&smuh=26609&lh=Ac-IR-MwtEilomHInBU\")\n"
   ]
  },
  {
   "cell_type": "markdown",
   "metadata": {},
   "source": [
    "Decline Cookies"
   ]
  },
  {
   "cell_type": "code",
   "execution_count": 3,
   "metadata": {},
   "outputs": [
    {
     "name": "stdout",
     "output_type": "stream",
     "text": [
      "Looking for Decline optional cookies\n",
      "Cookies have been declined!\n"
     ]
    }
   ],
   "source": [
    "try:\n",
    "    print(\"Looking for Decline optional cookies\")\n",
    "    \n",
    "    decline_cookies = WebDriverWait(driver, 5).until(\n",
    "        EC.element_to_be_clickable((By.XPATH, \"//*[contains(@aria-label, 'Decline')]\"))\n",
    "    )\n",
    "    decline_cookies.click()\n",
    "    print(\"Cookies have been declined!\")\n",
    "except NoSuchElementException:\n",
    "    print(\"Could not click button\")"
   ]
  },
  {
   "cell_type": "markdown",
   "metadata": {},
   "source": [
    "This code is looking for email input"
   ]
  },
  {
   "cell_type": "code",
   "execution_count": 4,
   "metadata": {},
   "outputs": [
    {
     "name": "stdout",
     "output_type": "stream",
     "text": [
      "Looking for email input...\n",
      "Success!\n"
     ]
    }
   ],
   "source": [
    "try:\n",
    "    print(\"Looking for email input...\")\n",
    "    input_element = WebDriverWait(driver, 5).until(\n",
    "        EC.presence_of_element_located((By.ID, \"email\")))\n",
    "    print(\"Success!\")\n",
    "except NoSuchElementException:\n",
    "    print(\"Email/Username input not found\")\n",
    "except TimeoutError:\n",
    "    print(\"Error: Time out waiting for email/username element\")"
   ]
  },
  {
   "cell_type": "markdown",
   "metadata": {},
   "source": [
    "Here you insert username or email"
   ]
  },
  {
   "cell_type": "code",
   "execution_count": 5,
   "metadata": {},
   "outputs": [
    {
     "name": "stdout",
     "output_type": "stream",
     "text": [
      "Inserting Username\n",
      "Success!\n"
     ]
    }
   ],
   "source": [
    "try:\n",
    "    print(\"Inserting Username\")\n",
    "    time.sleep(2)\n",
    "    input_element.send_keys(fb_username)\n",
    "    print(\"Success!\")\n",
    "except NoSuchElementException:\n",
    "    print(\"Failed to insert email/username\")"
   ]
  },
  {
   "cell_type": "markdown",
   "metadata": {},
   "source": [
    "This code is looking for password input"
   ]
  },
  {
   "cell_type": "code",
   "execution_count": 6,
   "metadata": {},
   "outputs": [
    {
     "name": "stdout",
     "output_type": "stream",
     "text": [
      "Looking for Password input...\n",
      "Success!\n"
     ]
    }
   ],
   "source": [
    "print(\"Looking for Password input...\")\n",
    "time.sleep(2)\n",
    "input_element = driver.find_element(By.ID, \"pass\")\n",
    "print(\"Success!\")"
   ]
  },
  {
   "cell_type": "markdown",
   "metadata": {},
   "source": [
    "Here you insert password"
   ]
  },
  {
   "cell_type": "code",
   "execution_count": 7,
   "metadata": {},
   "outputs": [
    {
     "name": "stdout",
     "output_type": "stream",
     "text": [
      "Inserting Password\n",
      "Success!\n"
     ]
    }
   ],
   "source": [
    "print(\"Inserting Password\")\n",
    "time.sleep(2)\n",
    "input_element.send_keys(fb_password + Keys.ENTER)\n",
    "print(\"Success!\")\n"
   ]
  },
  {
   "cell_type": "markdown",
   "metadata": {},
   "source": [
    "This timer is for the 2fa waiting time"
   ]
  },
  {
   "cell_type": "code",
   "execution_count": 8,
   "metadata": {},
   "outputs": [
    {
     "name": "stdout",
     "output_type": "stream",
     "text": [
      "You have 35 seconds to approve log in\n",
      "34\n",
      "33\n",
      "32\n",
      "31\n",
      "30\n",
      "29\n",
      "28\n",
      "27\n",
      "26\n",
      "25\n",
      "24\n",
      "23\n",
      "22\n",
      "21\n",
      "20\n",
      "19\n",
      "18\n",
      "17\n",
      "16\n",
      "15\n",
      "14\n",
      "13\n",
      "12\n",
      "11\n",
      "10\n"
     ]
    },
    {
     "ename": "KeyboardInterrupt",
     "evalue": "",
     "output_type": "error",
     "traceback": [
      "\u001b[1;31m---------------------------------------------------------------------------\u001b[0m",
      "\u001b[1;31mKeyboardInterrupt\u001b[0m                         Traceback (most recent call last)",
      "Cell \u001b[1;32mIn[8], line 5\u001b[0m\n\u001b[0;32m      3\u001b[0m     timer \u001b[38;5;241m=\u001b[39m timer \u001b[38;5;241m-\u001b[39m \u001b[38;5;241m1\u001b[39m\n\u001b[0;32m      4\u001b[0m     \u001b[38;5;28mprint\u001b[39m(timer)\n\u001b[1;32m----> 5\u001b[0m     \u001b[43mtime\u001b[49m\u001b[38;5;241;43m.\u001b[39;49m\u001b[43msleep\u001b[49m\u001b[43m(\u001b[49m\u001b[38;5;241;43m1\u001b[39;49m\u001b[43m)\u001b[49m\n\u001b[0;32m      7\u001b[0m \u001b[38;5;28mprint\u001b[39m(\u001b[38;5;124m\"\u001b[39m\u001b[38;5;124mSuccess!\u001b[39m\u001b[38;5;124m\"\u001b[39m)\n",
      "\u001b[1;31mKeyboardInterrupt\u001b[0m: "
     ]
    }
   ],
   "source": [
    "print(\"You have 35 seconds to approve log in\")\n",
    "while timer > 0:\n",
    "    timer = timer - 1\n",
    "    print(timer)\n",
    "    time.sleep(1)\n",
    "\n",
    "print(\"Success!\")"
   ]
  },
  {
   "cell_type": "markdown",
   "metadata": {},
   "source": [
    "Here you click on open profile"
   ]
  },
  {
   "cell_type": "code",
   "execution_count": 8,
   "metadata": {},
   "outputs": [
    {
     "name": "stdout",
     "output_type": "stream",
     "text": [
      "Clicking on Profile\n",
      "Success!\n"
     ]
    }
   ],
   "source": [
    "print(\"Clicking on Profile\")\n",
    "time.sleep(5)\n",
    "link = driver.find_element(By.LINK_TEXT, \"PUT YOUR PROFILE NAME HERE\")\n",
    "link.click()\n",
    "print(\"Success!\")"
   ]
  },
  {
   "cell_type": "markdown",
   "metadata": {},
   "source": [
    "This part waits for the profile to load"
   ]
  },
  {
   "cell_type": "code",
   "execution_count": 9,
   "metadata": {},
   "outputs": [
    {
     "name": "stdout",
     "output_type": "stream",
     "text": [
      "Loading Profile\n",
      "14 Seconds remaining\n",
      "13 Seconds remaining\n",
      "12 Seconds remaining\n",
      "11 Seconds remaining\n",
      "10 Seconds remaining\n",
      "9 Seconds remaining\n",
      "8 Seconds remaining\n",
      "7 Seconds remaining\n",
      "6 Seconds remaining\n",
      "5 Seconds remaining\n",
      "4 Seconds remaining\n",
      "3 Seconds remaining\n",
      "2 Seconds remaining\n",
      "1 Seconds remaining\n",
      "0 Seconds remaining\n"
     ]
    }
   ],
   "source": [
    "print(\"Loading Profile\")\n",
    "while profileTimer > 0:\n",
    "    profileTimer = profileTimer - 1\n",
    "    print(f\"{profileTimer} Seconds remaining\")\n",
    "    time.sleep(1)"
   ]
  },
  {
   "cell_type": "markdown",
   "metadata": {},
   "source": [
    "Here its going to click on 3 dots (creo que debo solo buscar la clase y no hacer cs sselector)\n",
    "aria_label = \"Actions for this post\""
   ]
  },
  {
   "cell_type": "code",
   "execution_count": 30,
   "metadata": {},
   "outputs": [
    {
     "name": "stdout",
     "output_type": "stream",
     "text": [
      "Loading three Dots part\n",
      "CSS_SELECTOR Found!\n",
      "About to click 3 dots\n"
     ]
    }
   ],
   "source": [
    "print(\"Loading three Dots part\")\n",
    "three_dots_button = WebDriverWait(driver, 5).until(\n",
    "    EC.element_to_be_clickable((By.CSS_SELECTOR, \".xqcrz7y.x78zum5.x1qx5ct2.x1y1aw1k.x1sxyh0.xwib8y2.xurb0ha.xw4jnvo\"))\n",
    "    )\n",
    "print(\"CSS_SELECTOR Found!\")\n",
    "print(\"About to click 3 dots\")\n",
    "time.sleep(5)\n",
    "three_dots_button.click()\n",
    "time.sleep(5)"
   ]
  },
  {
   "cell_type": "markdown",
   "metadata": {},
   "source": [
    "#Here i will search inside the toggle for the words \"Edit audience\"\n"
   ]
  },
  {
   "cell_type": "code",
   "execution_count": 31,
   "metadata": {},
   "outputs": [
    {
     "name": "stdout",
     "output_type": "stream",
     "text": [
      "<selenium.webdriver.remote.webelement.WebElement (session=\"cb08f946e6ad307a8c2d2e988594748a\", element=\"f.860E2E58FD1CFD1A63DAD6976422A86E.d.0F9E21B1F4CB8D5FCC9C45ABC45D3178.e.27290\")>\n"
     ]
    }
   ],
   "source": [
    "edit_audience = WebDriverWait(driver, 5).until(\n",
    "    EC.element_to_be_clickable((By.XPATH, \"//*[contains(@class, 'xu06os2') and contains(@class, 'x1ok221b')]/span[contains(text(), 'Edit audience')]\"))\n",
    ")\n",
    "print(edit_audience)\n",
    "time.sleep(10)\n",
    "edit_audience.click()\n",
    "\n",
    "time.sleep(10)\n",
    "\n",
    "    \n"
   ]
  },
  {
   "cell_type": "markdown",
   "metadata": {},
   "source": [
    "Here it will click on \"Only me\""
   ]
  },
  {
   "cell_type": "code",
   "execution_count": 32,
   "metadata": {},
   "outputs": [],
   "source": [
    "edit_audience_only_me = WebDriverWait(driver, 5).until(\n",
    "    EC.element_to_be_clickable((By.XPATH, \"//span[contains(@class, 'x193iq5w') and contains(text(), 'Only me')]\"))\n",
    ")\n",
    "time.sleep(10)\n",
    "edit_audience_only_me.click()\n"
   ]
  },
  {
   "cell_type": "markdown",
   "metadata": {},
   "source": [
    "Here we will click on Save"
   ]
  },
  {
   "cell_type": "code",
   "execution_count": 33,
   "metadata": {},
   "outputs": [
    {
     "name": "stdout",
     "output_type": "stream",
     "text": [
      "<selenium.webdriver.remote.webelement.WebElement (session=\"cb08f946e6ad307a8c2d2e988594748a\", element=\"f.860E2E58FD1CFD1A63DAD6976422A86E.d.0F9E21B1F4CB8D5FCC9C45ABC45D3178.e.27655\")>\n"
     ]
    }
   ],
   "source": [
    "save_button = WebDriverWait(driver, 5).until(\n",
    "    EC.element_to_be_clickable((By.XPATH, \"//*[contains(@aria-label, 'Save')]\"))\n",
    ")\n",
    "\n",
    "print(save_button)\n",
    "time.sleep(10)\n",
    "save_button.click()"
   ]
  },
  {
   "cell_type": "markdown",
   "metadata": {},
   "source": [
    "Now we have to archive our post first we click on the three dots"
   ]
  },
  {
   "cell_type": "code",
   "execution_count": null,
   "metadata": {},
   "outputs": [
    {
     "name": "stdout",
     "output_type": "stream",
     "text": [
      "Loading three Dots part\n",
      "CSS_SELECTOR Found!\n",
      "About to click 3 dots\n"
     ]
    }
   ],
   "source": [
    "print(\"Loading three Dots part\")\n",
    "three_dots_button = WebDriverWait(driver, 5).until(\n",
    "    EC.element_to_be_clickable((By.CSS_SELECTOR, \".xqcrz7y.x78zum5.x1qx5ct2.x1y1aw1k.x1sxyh0.xwib8y2.xurb0ha.xw4jnvo\"))\n",
    "    )\n",
    "print(\"CSS_SELECTOR Found!\")\n",
    "print(\"About to click 3 dots\")\n",
    "time.sleep(5)\n",
    "three_dots_button.click()\n",
    "time.sleep(1)"
   ]
  },
  {
   "cell_type": "markdown",
   "metadata": {},
   "source": [
    "Now we click on Move to archive"
   ]
  },
  {
   "cell_type": "code",
   "execution_count": 39,
   "metadata": {},
   "outputs": [],
   "source": [
    "move_to_archive = WebDriverWait(driver, 5).until(\n",
    "    EC.element_to_be_clickable((By.XPATH, \"//span[contains(@class, 'x193iq5w') and contains(text(), 'Move to archive')]\"))\n",
    ")\n",
    "time.sleep(10)\n",
    "move_to_archive.click()"
   ]
  }
 ],
 "metadata": {
  "kernelspec": {
   "display_name": "Python 3",
   "language": "python",
   "name": "python3"
  },
  "language_info": {
   "codemirror_mode": {
    "name": "ipython",
    "version": 3
   },
   "file_extension": ".py",
   "mimetype": "text/x-python",
   "name": "python",
   "nbconvert_exporter": "python",
   "pygments_lexer": "ipython3",
   "version": "3.13.1"
  }
 },
 "nbformat": 4,
 "nbformat_minor": 2
}
